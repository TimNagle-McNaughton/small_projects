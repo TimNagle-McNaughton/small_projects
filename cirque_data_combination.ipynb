{
 "cells": [
  {
   "cell_type": "code",
   "execution_count": 1,
   "metadata": {},
   "outputs": [],
   "source": [
    "import shutil\n",
    "import os\n",
    "from glob import glob\n",
    "import xml.etree.ElementTree as ET\n",
    "from IPython.display import clear_output"
   ]
  },
  {
   "cell_type": "code",
   "execution_count": 7,
   "metadata": {},
   "outputs": [
    {
     "name": "stdout",
     "output_type": "stream",
     "text": [
      "Wales\n"
     ]
    }
   ],
   "source": [
    "# cirque path\n",
    "path = r\"E:/cirques/raw_data/\"\n",
    "combined_image_path = r\"E:/cirques/combined/images/\"\n",
    "combined_label_path = r\"E:/cirques/combined/labels/\"\n",
    "\n",
    "# get a list of all the location paths\n",
    "folder_list = os.listdir(path)\n",
    "\n",
    "# open the map file\n",
    "file = open(\"E:/cirques/combined/map.txt\", \"w\")\n",
    "\n",
    "# loop through each folder to rename the files\n",
    "for folder in folder_list:\n",
    "    \n",
    "    # show some progress\n",
    "    print(folder)\n",
    "    \n",
    "    # make image/label paths\n",
    "    image_path = path + folder + \"/images/\"\n",
    "    label_path = path + folder + \"/labels/\"\n",
    "    \n",
    "    # get a list of all the images and labels in each source folder\n",
    "    image_list = glob(image_path + \"*\")\n",
    "    label_list = glob(label_path + \"*\")\n",
    "\n",
    "    # loop through the images\n",
    "    for image in image_list:\n",
    "        \n",
    "        # copy the image to the combined data folder and rename\n",
    "        shutil.copyfile(image, combined_image_path + folder + \"_\" + os.path.basename(image))\n",
    "        \n",
    "        # save results to the map file\n",
    "        file.write(\"images\\\\\" + folder + \"_\" + os.path.basename(image))\n",
    "        file.write(\"  labels\\\\\" + folder + \"_\" + os.path.basename(image)[:-4] + \".xml\\n\")\n",
    "    \n",
    "    # loop through the labels\n",
    "    for label in label_list:\n",
    "        \n",
    "        # open and parse the XML file\n",
    "        tree = ET.parse(label)\n",
    "        root = tree.getroot()\n",
    "        \n",
    "        # rename the filename tag to match the updated one\n",
    "        root[0].text = folder + \"_\" + os.path.basename(label)[:-4] + \".tif\"\n",
    "        \n",
    "        # save the XML changes to the combined folder\n",
    "        tree.write(combined_label_path + folder + \"_\" + os.path.basename(label))\n",
    "        \n",
    "    # clear output\n",
    "    clear_output(wait=True)\n",
    "            \n",
    "# save map file                   \n",
    "file.close()"
   ]
  }
 ],
 "metadata": {
  "kernelspec": {
   "display_name": "Python 3",
   "language": "python",
   "name": "python3"
  },
  "language_info": {
   "codemirror_mode": {
    "name": "ipython",
    "version": 3
   },
   "file_extension": ".py",
   "mimetype": "text/x-python",
   "name": "python",
   "nbconvert_exporter": "python",
   "pygments_lexer": "ipython3",
   "version": "3.7.4"
  }
 },
 "nbformat": 4,
 "nbformat_minor": 2
}
