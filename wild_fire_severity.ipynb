{
 "cells": [
  {
   "cell_type": "code",
   "execution_count": 8,
   "metadata": {},
   "outputs": [
    {
     "data": {
      "text/plain": [
       "'CheckedOut'"
      ]
     },
     "execution_count": 8,
     "metadata": {},
     "output_type": "execute_result"
    }
   ],
   "source": [
    "# imports\n",
    "import arcpy\n",
    "from tqdm.notebook import tqdm\n",
    "from arcpy.sa import *\n",
    "\n",
    "# ArcGIS setup\n",
    "arcpy.env.overwriteOutput = True\n",
    "arcpy.env.extent = \"MAXOF\"\n",
    "\n",
    "# set an existing raster to copy attributes from\n",
    "existing_raster = r\"E:/fires/fires.gdb/US_fire_count\"\n",
    "\n",
    "# set the snap raster setting\n",
    "arcpy.env.snapRaster = existing_raster\n",
    "\n",
    "# set workspace path\n",
    "workspace = r\"E:/fires/fires.gdb/\"\n",
    "arcpy.env.workspace = workspace\n",
    "\n",
    "# root folder\n",
    "root_path = r\"E:/fires/\"\n",
    "\n",
    "# contains MTBS data 1984-2018 as rasters\n",
    "data_path = r\"E:/fires/mtbs/\"\n",
    "\n",
    "# check out the spatial analyst tools\n",
    "arcpy.CheckOutExtension(\"Spatial\")"
   ]
  },
  {
   "cell_type": "markdown",
   "metadata": {},
   "source": [
    "# convert to binary\n",
    "\n",
    "we only care about the most severe fires (rated as 4 in the rasters). We thus mask out all values that are not zero using [raster algebra](https://pro.arcgis.com/en/pro-app/latest/tool-reference/spatial-analyst/raster-calculator.htm) and a [conditional statement](https://pro.arcgis.com/en/pro-app/latest/tool-reference/spatial-analyst/con-.htm). Unfortunately, this process is extremely inefficient even on high-end hardware. Classic ArcPy."
   ]
  },
  {
   "cell_type": "code",
   "execution_count": 2,
   "metadata": {},
   "outputs": [
    {
     "data": {
      "application/vnd.jupyter.widget-view+json": {
       "model_id": "c976266fba90496d85a5ed431a4cd74b",
       "version_major": 2,
       "version_minor": 0
      },
      "text/plain": [
       "HBox(children=(FloatProgress(value=0.0, max=35.0), HTML(value='')))"
      ]
     },
     "metadata": {},
     "output_type": "display_data"
    },
    {
     "name": "stdout",
     "output_type": "stream",
     "text": [
      "\n"
     ]
    }
   ],
   "source": [
    "# get a list of files to process\n",
    "raw_mtbs_list = glob.glob(data_path + \"*.tif\")\n",
    "\n",
    "# loop through all the files to process\n",
    "for mtbs_raster in tqdm(raw_mtbs_list):\n",
    "\n",
    "    # set as a raster\n",
    "    mtbs_raster = arcpy.Raster(mtbs_raster)\n",
    "    \n",
    "    # convert to a binary mask of only \"4\" (high intensity fires)\n",
    "    binary_raster = Con(mtbs_raster, 0, 1, \"VALUE < 4\")\n",
    "    \n",
    "    # get a cleaner savename\n",
    "    save_name = arcpy.Describe(mtbs_raster).basename + \"_binary\"\n",
    "    \n",
    "    # save the binary raster\n",
    "    binary_raster.save(save_name)"
   ]
  },
  {
   "cell_type": "markdown",
   "metadata": {},
   "source": [
    "# combine into one map\n",
    "\n",
    "This produces a map where each pixel value represents the number of times that cell has been severely burned. We use a combination of [cell statistics](https://pro.arcgis.com/en/pro-app/latest/tool-reference/spatial-analyst/cell-statistics.htm) to sum the 34 years together, and then [project the raster](https://pro.arcgis.com/en/pro-app/latest/tool-reference/data-management/project-raster.htm) to make sure everything is in the same projection system for later."
   ]
  },
  {
   "cell_type": "code",
   "execution_count": 4,
   "metadata": {},
   "outputs": [
    {
     "name": "stdout",
     "output_type": "stream",
     "text": [
      "Rasters combined. Projecting raster...\n",
      "Projection finished!\n"
     ]
    }
   ],
   "source": [
    "# get a list of rasters\n",
    "binary_raster_list = arcpy.ListRasters(\"*binary\")\n",
    "\n",
    "# sum the rasters together\n",
    "sum_binary_raster = CellStatistics(binary_raster_list, \"SUM\", \"DATA\")\n",
    "print(\"Rasters combined. Projecting raster...\")\n",
    "\n",
    "# set the save name\n",
    "save_name = workspace + \"binary_sum\"\n",
    "\n",
    "# save and project the results to match the rest of the data\n",
    "arcpy.ProjectRaster_management(sum_binary_raster, save_name, existing_raster, \"NEAREST\")\n",
    "print(\"Projection finished!\")"
   ]
  },
  {
   "cell_type": "markdown",
   "metadata": {},
   "source": [
    "# smooth and downsample the raster\n",
    "There are simply too many pixels in the binary sum raster to convert directly to points here. We smooth the raster to with different [kernels](https://pro.arcgis.com/en/pro-app/latest/tool-reference/spatial-analyst/focal-statistics.htm) the size of the larger cells (24:1 ratio). We can then more accurately [downsample](https://pro.arcgis.com/en/pro-app/latest/tool-reference/data-management/resample.htm) that smoothed raster to the resolution of the other data."
   ]
  },
  {
   "cell_type": "code",
   "execution_count": null,
   "metadata": {},
   "outputs": [],
   "source": [
    "# define a function to save a few lines of code\n",
    "def apply_smoothing(kernel_function, save_name):\n",
    "\n",
    "    # apply a 24x24  kernel\n",
    "    smoothed_raster = FocalStatistics(workspace + \"binary_sum\", NbrRectangle(24, 24, \"CELL\"), kernel_function, \"DATA\")\n",
    "\n",
    "    # save the smoothed raster\n",
    "    smoothed_raster.save(workspace + save_name)\n",
    "    \n",
    "    # get the cell size from the existing raster\n",
    "    cell_size = \"0.0083333333333 0.0083333333333\"\n",
    "    \n",
    "    # downsample the smoothed raster\n",
    "    arcpy.Resample_management(smoothed_raster, workspace + save_name + \"_resample\", cell_size, \"NEAREST\")\n",
    "    \n",
    "apply_smoothing(\"MEAN\", \"binary_sum_mean\")\n",
    "apply_smoothing(\"MEDIAN\", \"binary_sum_median\")\n",
    "apply_smoothing(\"SUM\", \"binary_sum_sum\")"
   ]
  },
  {
   "cell_type": "code",
   "execution_count": null,
   "metadata": {},
   "outputs": [],
   "source": [
    "# check in the spatial analyst tools\n",
    "arcpy.CheckInExtension(\"Spatial\")"
   ]
  }
 ],
 "metadata": {
  "kernelspec": {
   "display_name": "Python 3",
   "language": "python",
   "name": "python3"
  },
  "language_info": {
   "codemirror_mode": {
    "name": "ipython",
    "version": 3
   },
   "file_extension": ".py",
   "mimetype": "text/x-python",
   "name": "python",
   "nbconvert_exporter": "python",
   "pygments_lexer": "ipython3",
   "version": "3.6.9"
  }
 },
 "nbformat": 4,
 "nbformat_minor": 2
}
