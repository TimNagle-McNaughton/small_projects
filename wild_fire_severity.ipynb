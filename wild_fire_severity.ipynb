{
 "cells": [
  {
   "cell_type": "code",
   "execution_count": 41,
   "metadata": {},
   "outputs": [],
   "source": [
    "import arcpy\n",
    "import glob\n",
    "from tqdm.notebook import tqdm\n",
    "from arcpy.sa import *\n",
    "\n",
    "# ArcGIS setup\n",
    "arcpy.env.overwriteOutput = True\n",
    "arcpy.env.extent = \"MAXOF\"\n",
    "\n",
    "# set workspace path\n",
    "workspace = r\"E:/fires/fires.gdb/\"\n",
    "arcpy.env.workspace = workspace\n",
    "\n",
    "# root folder\n",
    "root_path = r\"E:/fires/\"\n",
    "\n",
    "# contains MTBS data 1984-2018 as rasters\n",
    "data_path = r\"E:/fires/mtbs/\""
   ]
  },
  {
   "cell_type": "markdown",
   "metadata": {},
   "source": [
    "# convert to binary\n",
    "\n",
    "we only care about the most severe fires (rated as 4 in the rasters). We thus mask out all values that are not zero. Unfortunately, this process is extremely inefficient even on high-end hardware. Classic ArcPy."
   ]
  },
  {
   "cell_type": "code",
   "execution_count": 29,
   "metadata": {},
   "outputs": [
    {
     "data": {
      "application/vnd.jupyter.widget-view+json": {
       "model_id": "51d69d898f95496faf4f7c9ffb3cd7d2",
       "version_major": 2,
       "version_minor": 0
      },
      "text/plain": [
       "HBox(children=(FloatProgress(value=0.0, max=35.0), HTML(value='')))"
      ]
     },
     "metadata": {},
     "output_type": "display_data"
    },
    {
     "name": "stdout",
     "output_type": "stream",
     "text": [
      "\n"
     ]
    }
   ],
   "source": [
    "# get a list of files to process\n",
    "raw_mtbs_list = glob.glob(data_path + \"*.tif\")\n",
    "\n",
    "# check out the spatial analyst tools\n",
    "arcpy.CheckOutExtension(\"Spatial\")\n",
    "\n",
    "# loop through all the files to process\n",
    "for mtbs_raster in tqdm(raw_mtbs_list):\n",
    "    \n",
    "    # set as a raster\n",
    "    mtbs_raster = arcpy.Raster(mtbs_raster)\n",
    "    \n",
    "    # convert to a binary mask of only \"4\" (high intensity fires)\n",
    "    binary_raster = arcpy.sa.SetNull(mtbs_raster, 1, \"VALUE < 4\")\n",
    "    \n",
    "    # get a cleaner savename\n",
    "    save_name = arcpy.Describe(mtbs_raster).basename + \"_binary\"\n",
    "    \n",
    "    # save the binary raster\n",
    "    binary_raster.save(save_name)\n",
    "    \n",
    "# check in the spatial analyst tools\n",
    "arcpy.CheckInExtension(\"Spatial\")"
   ]
  },
  {
   "cell_type": "markdown",
   "metadata": {},
   "source": [
    "# combine into one map via raster calculator manually\n",
    "\n",
    "this produces a map where each pixel value represents the number of times that cell has been severely burned."
   ]
  },
  {
   "cell_type": "markdown",
   "metadata": {},
   "source": [
    "# use zonal statistics to 'downsample' to other data\n",
    "\n",
    "the MTBS data is much finer than the other data in the models and thus needs to be downsampled to match."
   ]
  },
  {
   "cell_type": "code",
   "execution_count": null,
   "metadata": {},
   "outputs": [],
   "source": [
    "# get the binary raster\n",
    "value_raster = r\"E:/fires/fires.gdb/binary_sum\"\n",
    "\n",
    "# get any of the other data maps to downsample to\n",
    "zone_raster = workspace + \"cal_zero\"\n",
    "\n",
    "# create a function to save a few lines of coding\n",
    "def zonal_stats(stat_type, save_name):\n",
    "\n",
    "    # calculate thdown_sample_cell_sizeple_cell_sizesample_cell_sizet value\n",
    "    stat_raster = ZonalStatistics(zone_raster, \"VALUE\", value_raster, stat_type, \"DATA\")\n",
    "\n",
    "    # save the results\n",
    "    stat_raster.save(save_name)\n",
    "\n",
    "# generate and save all the statistics we could want\n",
    "zonal_stats(\"MEDIAN\", \"binary_sum_median\")\n",
    "zonal_stats(\"MEAN\", \"binary_sum_mean\")\n",
    "zonal_stats(\"MODE\", \"binary_sum_mode\")\n",
    "zonal_stats(\"MAX\", \"binary_sum_max\")"
   ]
  }
 ],
 "metadata": {
  "kernelspec": {
   "display_name": "Python 3",
   "language": "python",
   "name": "python3"
  },
  "language_info": {
   "codemirror_mode": {
    "name": "ipython",
    "version": 3
   },
   "file_extension": ".py",
   "mimetype": "text/x-python",
   "name": "python",
   "nbconvert_exporter": "python",
   "pygments_lexer": "ipython3",
   "version": "3.6.9"
  }
 },
 "nbformat": 4,
 "nbformat_minor": 2
}
