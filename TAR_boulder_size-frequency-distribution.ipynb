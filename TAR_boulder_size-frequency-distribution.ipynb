{
 "cells": [
  {
   "cell_type": "code",
   "execution_count": 1,
   "metadata": {},
   "outputs": [],
   "source": [
    "import pandas as pd \n",
    "import numpy as np\n",
    "import matplotlib.pyplot as plt\n",
    "%matplotlib inline"
   ]
  },
  {
   "cell_type": "code",
   "execution_count": 2,
   "metadata": {},
   "outputs": [
    {
     "data": {
      "text/html": [
       "<div>\n",
       "<style scoped>\n",
       "    .dataframe tbody tr th:only-of-type {\n",
       "        vertical-align: middle;\n",
       "    }\n",
       "\n",
       "    .dataframe tbody tr th {\n",
       "        vertical-align: top;\n",
       "    }\n",
       "\n",
       "    .dataframe thead th {\n",
       "        text-align: right;\n",
       "    }\n",
       "</style>\n",
       "<table border=\"1\" class=\"dataframe\">\n",
       "  <thead>\n",
       "    <tr style=\"text-align: right;\">\n",
       "      <th></th>\n",
       "      <th>a1-width</th>\n",
       "      <th>a1-length</th>\n",
       "      <th>a1-area</th>\n",
       "      <th>a3-width</th>\n",
       "      <th>a3-length</th>\n",
       "      <th>a3-area</th>\n",
       "      <th>a2-width</th>\n",
       "      <th>a2-length</th>\n",
       "      <th>a2-area</th>\n",
       "    </tr>\n",
       "  </thead>\n",
       "  <tbody>\n",
       "    <tr>\n",
       "      <td>1</td>\n",
       "      <td>0.500</td>\n",
       "      <td>2.062</td>\n",
       "      <td>1.00</td>\n",
       "      <td>1.0</td>\n",
       "      <td>1.581</td>\n",
       "      <td>1.250</td>\n",
       "      <td>0.750</td>\n",
       "      <td>1.250</td>\n",
       "      <td>0.719</td>\n",
       "    </tr>\n",
       "    <tr>\n",
       "      <td>2</td>\n",
       "      <td>3.000</td>\n",
       "      <td>4.301</td>\n",
       "      <td>8.75</td>\n",
       "      <td>1.0</td>\n",
       "      <td>1.581</td>\n",
       "      <td>1.250</td>\n",
       "      <td>1.000</td>\n",
       "      <td>1.820</td>\n",
       "      <td>1.219</td>\n",
       "    </tr>\n",
       "    <tr>\n",
       "      <td>3</td>\n",
       "      <td>2.000</td>\n",
       "      <td>2.500</td>\n",
       "      <td>3.25</td>\n",
       "      <td>1.0</td>\n",
       "      <td>1.581</td>\n",
       "      <td>1.250</td>\n",
       "      <td>0.884</td>\n",
       "      <td>1.250</td>\n",
       "      <td>0.781</td>\n",
       "    </tr>\n",
       "    <tr>\n",
       "      <td>4</td>\n",
       "      <td>1.000</td>\n",
       "      <td>1.803</td>\n",
       "      <td>1.50</td>\n",
       "      <td>1.0</td>\n",
       "      <td>1.803</td>\n",
       "      <td>1.375</td>\n",
       "      <td>1.250</td>\n",
       "      <td>6.255</td>\n",
       "      <td>6.313</td>\n",
       "    </tr>\n",
       "    <tr>\n",
       "      <td>5</td>\n",
       "      <td>3.182</td>\n",
       "      <td>6.403</td>\n",
       "      <td>13.00</td>\n",
       "      <td>1.5</td>\n",
       "      <td>3.808</td>\n",
       "      <td>4.125</td>\n",
       "      <td>1.000</td>\n",
       "      <td>1.346</td>\n",
       "      <td>1.062</td>\n",
       "    </tr>\n",
       "  </tbody>\n",
       "</table>\n",
       "</div>"
      ],
      "text/plain": [
       "   a1-width  a1-length  a1-area  a3-width  a3-length  a3-area  a2-width  \\\n",
       "1     0.500      2.062     1.00       1.0      1.581    1.250     0.750   \n",
       "2     3.000      4.301     8.75       1.0      1.581    1.250     1.000   \n",
       "3     2.000      2.500     3.25       1.0      1.581    1.250     0.884   \n",
       "4     1.000      1.803     1.50       1.0      1.803    1.375     1.250   \n",
       "5     3.182      6.403    13.00       1.5      3.808    4.125     1.000   \n",
       "\n",
       "   a2-length  a2-area  \n",
       "1      1.250    0.719  \n",
       "2      1.820    1.219  \n",
       "3      1.250    0.781  \n",
       "4      6.255    6.313  \n",
       "5      1.346    1.062  "
      ]
     },
     "execution_count": 2,
     "metadata": {},
     "output_type": "execute_result"
    }
   ],
   "source": [
    "boulders = pd.read_csv(\"E:\\Mars\\Local_flow/Boulder_data_consolidated.csv\", float_precision=None)\n",
    "boulders.columns = ['a1-width','a1-length','a1-area',\n",
    "                    'a3-width','a3-length','a3-area',\n",
    "                    'a2-width','a2-length','a2-area']\n",
    "boulders = boulders.iloc[1:,]\n",
    "boulders = boulders.astype(float).round(3)\n",
    "boulders.head()"
   ]
  },
  {
   "cell_type": "code",
   "execution_count": 3,
   "metadata": {},
   "outputs": [
    {
     "name": "stderr",
     "output_type": "stream",
     "text": [
      "C:\\ProgramData\\Anaconda3\\lib\\site-packages\\numpy\\lib\\histograms.py:824: RuntimeWarning: invalid value encountered in greater_equal\n",
      "  keep = (tmp_a >= first_edge)\n",
      "C:\\ProgramData\\Anaconda3\\lib\\site-packages\\numpy\\lib\\histograms.py:825: RuntimeWarning: invalid value encountered in less_equal\n",
      "  keep &= (tmp_a <= last_edge)\n"
     ]
    },
    {
     "data": {
      "image/png": "[encoded data removed]",
      "text/plain": [
       "<Figure size 864x288 with 3 Axes>"
      ]
     },
     "metadata": {
      "needs_background": "light"
     },
     "output_type": "display_data"
    }
   ],
   "source": [
    "fig, ax = plt.subplots(nrows=1, ncols=3, figsize=(12, 4), constrained_layout=True)\n",
    "\n",
    "ax[0].hist(boulders[\"a1-width\"], density=True, bins=20, stacked=True, histtype='step', color='r', label=\"Location 1\");\n",
    "ax[0].hist(boulders[\"a2-width\"], density=True, bins=20, stacked=True, histtype='step', color='g', label=\"Location 2\");\n",
    "ax[0].hist(boulders[\"a3-width\"], density=True, bins=20, stacked=True, histtype='step', color='b', label=\"Location 3\");\n",
    "\n",
    "ax[1].hist(boulders[\"a1-length\"], density=True, bins=20, stacked=True, histtype='step', color='r', label=\"Location 1\");\n",
    "ax[1].hist(boulders[\"a2-length\"], density=True, bins=20, stacked=True, histtype='step', color='g', label=\"Location 2\");\n",
    "ax[1].hist(boulders[\"a3-length\"], density=True, bins=20, stacked=True, histtype='step', color='b', label=\"Location 3\");\n",
    "\n",
    "ax[2].hist(boulders[\"a1-area\"], density=True, bins=20, stacked=True, histtype='step', color='r', label=\"Location 1\");\n",
    "ax[2].hist(boulders[\"a2-area\"], density=True, bins=20, stacked=True, histtype='step', color='g', label=\"Location 2\");\n",
    "ax[2].hist(boulders[\"a3-area\"], density=True, bins=20, stacked=True, histtype='step', color='b', label=\"Location 3\");\n",
    "\n",
    "# set up labels\n",
    "ax[0].set_title(\"Width\")\n",
    "ax[0].set_xlabel(\"width (m)\")\n",
    "ax[0].set_ylabel(\"Normalized frequency\")\n",
    "ax[0].set_yscale(\"log\")\n",
    "\n",
    "ax[1].set_title(\"Length\")\n",
    "ax[1].set_xlabel(\"length (m)\")\n",
    "# ax[1].set_ylabel(\"Normalized frequency\")\n",
    "ax[1].set_yscale(\"log\")\n",
    "\n",
    "ax[2].set_title(\"Area\")\n",
    "ax[2].set_xlabel(\"area (sq m)\")\n",
    "# ax[2].set_ylabel(\"Normalized frequency\")\n",
    "ax[2].set_yscale(\"log\")\n",
    "\n",
    "# set legends\n",
    "ax[0].legend(frameon=False, loc='upper center');\n",
    "\n",
    "plt.suptitle(\"Boulder size distributions\");\n",
    "plt.savefig(\"E:\\Desktop\\Localized flow\\Figures\\Boulder_distributions.png\", dpi=300);\n",
    "plt.show()"
   ]
  }
 ],
 "metadata": {
  "kernelspec": {
   "display_name": "Python 3",
   "language": "python",
   "name": "python3"
  },
  "language_info": {
   "codemirror_mode": {
    "name": "ipython",
    "version": 3
   },
   "file_extension": ".py",
   "mimetype": "text/x-python",
   "name": "python",
   "nbconvert_exporter": "python",
   "pygments_lexer": "ipython3",
   "version": "3.7.4"
  }
 },
 "nbformat": 4,
 "nbformat_minor": 2
}
